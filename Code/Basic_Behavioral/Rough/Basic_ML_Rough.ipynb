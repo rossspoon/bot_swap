{
 "cells": [
  {
   "cell_type": "code",
   "execution_count": 64,
   "metadata": {},
   "outputs": [],
   "source": [
    "import pandas as pd\n",
    "import numpy as np\n",
    "import matplotlib.pyplot as plt\n",
    "import glob\n",
    "from sklearn.svm import LinearSVC"
   ]
  },
  {
   "cell_type": "code",
   "execution_count": 65,
   "metadata": {},
   "outputs": [],
   "source": [
    "session = \"Pilot5\"\n",
    "data_dir = f\"/Users/thenning/Documents/GitHub/neurobubbles/Data/{session}\"\n",
    "order_data = pd.read_csv((glob.glob(f\"{data_dir}/orders*.csv\"))[0])\n",
    "round_data = pd.read_csv((glob.glob(f\"{data_dir}/rounds*.csv\"))[0])\n",
    "payments_data = pd.read_csv((glob.glob(f\"{data_dir}/payment*.csv\"))[0])\n",
    "prescreen_data = pd.read_csv((glob.glob(f\"{data_dir}/prescreen*.csv\"))[0])\n",
    "pagetime_data = pd.read_csv((glob.glob(f\"{data_dir}/PageTimes*.csv\"))[0])\n"
   ]
  },
  {
   "cell_type": "markdown",
   "metadata": {},
   "source": [
    "# Order Data"
   ]
  },
  {
   "cell_type": "code",
   "execution_count": 66,
   "metadata": {},
   "outputs": [
    {
     "name": "stdout",
     "output_type": "stream",
     "text": [
      "skipping practice round 1\n",
      "skipping practice round 2\n",
      "skipping practice round 3\n"
     ]
    },
    {
     "data": {
      "text/plain": [
       "[33,\n",
       " 24,\n",
       " 22,\n",
       " 33,\n",
       " 25,\n",
       " 18,\n",
       " 16,\n",
       " 27,\n",
       " 26,\n",
       " 14,\n",
       " 22,\n",
       " 23,\n",
       " 15,\n",
       " 10,\n",
       " 14,\n",
       " 2,\n",
       " 18,\n",
       " 16,\n",
       " 30,\n",
       " 27,\n",
       " 18,\n",
       " 21,\n",
       " 29,\n",
       " 19,\n",
       " 30,\n",
       " 35,\n",
       " 42,\n",
       " 47,\n",
       " 41,\n",
       " 30]"
      ]
     },
     "execution_count": 66,
     "metadata": {},
     "output_type": "execute_result"
    }
   ],
   "source": [
    "sell_orders = []\n",
    "min_sell_price = []\n",
    "buy_orders = []\n",
    "max_buy_price = []\n",
    "market_price = []\n",
    "for round in np.unique(order_data['round_number']):\n",
    "    if round > 3:\n",
    "        df = order_data[order_data['round_number']== round]\n",
    "        sell_orders.append(np.sum(df[df['type'] == 'SELL']['quantity']))\n",
    "        min_sell_price.append(np.min(df[df['type'] == 'SELL']['price']))\n",
    "        buy_orders.append(np.sum(df[df['type'] == 'BUY']['quantity']))\n",
    "        max_buy_price.append(np.max(df[df['type'] == 'BUY']['price']))\n",
    "        market_price.append(np.unique(df['market_price']))\n",
    "    else:\n",
    "        print(\"skipping practice round\", round)\n",
    "\n",
    "#turning into numpy arrays cause its nice\n",
    "sell_orders_array = np.array(sell_orders)\n",
    "min_sell_price_array = np.array(min_sell_price)\n",
    "buy_orders_array = np.array(buy_orders)\n",
    "max_buy_price_array = np.array(max_buy_price)\n",
    "market_price_array = np.array(market_price)\n",
    "\n",
    "(sell_orders)"
   ]
  },
  {
   "cell_type": "markdown",
   "metadata": {},
   "source": [
    "## Buy and Sell info"
   ]
  },
  {
   "cell_type": "code",
   "execution_count": 67,
   "metadata": {},
   "outputs": [
    {
     "data": {
      "image/png": "[encoded data removed]",
      "text/plain": [
       "<Figure size 640x480 with 1 Axes>"
      ]
     },
     "metadata": {},
     "output_type": "display_data"
    }
   ],
   "source": [
    "num_rounds = len(sell_orders)  # Assuming both sell_orders and buy_orders have the same length (number of rounds)\n",
    "rounds = np.arange(num_rounds)\n",
    "\n",
    "\n",
    "plt.bar(rounds - 0.2, sell_orders, width=0.4, label='Sell Orders', color='red')  # Shift bars to the left, color red\n",
    "plt.bar(rounds + 0.2, buy_orders, width=0.4, label='Buy Orders', color='green')   # Shift bars to the right, color green\n",
    "plt.xlabel('Round')\n",
    "plt.ylabel('Buy/Sell Order Count')\n",
    "plt.title('Buy/Sell Order Count per Round')\n",
    "plt.legend()\n",
    "plt.show()\n"
   ]
  },
  {
   "cell_type": "code",
   "execution_count": 68,
   "metadata": {},
   "outputs": [
    {
     "data": {
      "text/plain": [
       "30"
      ]
     },
     "execution_count": 68,
     "metadata": {},
     "output_type": "execute_result"
    }
   ],
   "source": [
    "def get_negative_inflection(buy_orders, sell_orders, session, hide_graph = \"no\"):\n",
    "    buy_sell_diff = []\n",
    "    for round,ask_count in enumerate(sell_orders):\n",
    "        bid_count = buy_orders[round]\n",
    "        if (ask_count > bid_count) and not (sell_orders[round-1] > buy_orders[round-1]):\n",
    "            buy_sell_diff.append(1)\n",
    "        else:\n",
    "            buy_sell_diff.append(0)\n",
    "    np.array(buy_sell_diff)\n",
    "\n",
    "    if hide_graph == \"yes\":\n",
    "        plt.plot(buy_sell_diff)\n",
    "        plt.title(f\"{session} Bid_Ask Change\")\n",
    "    \n",
    "    return buy_sell_diff\n",
    "\n",
    "buy_sell_diff = get_negative_inflection(buy_orders, sell_orders, session)\n",
    "len(buy_sell_diff)"
   ]
  },
  {
   "cell_type": "markdown",
   "metadata": {},
   "source": [
    "## Lag Price"
   ]
  },
  {
   "cell_type": "code",
   "execution_count": 69,
   "metadata": {},
   "outputs": [],
   "source": [
    "\n",
    "def price_change(idx, market_price_array):\n",
    "    if idx == 0:\n",
    "        prev = 0\n",
    "    else:\n",
    "        prev = market_price_array[idx-1]\n",
    "    return market_price_array[idx] - prev\n",
    "\n",
    "def get_lag_price(market_price_array, hide_graph = \"no\"):\n",
    "    lag_price = []\n",
    "    for round,price in enumerate(market_price_array):\n",
    "        lag_price.append(price_change(round, market_price_array))\n",
    "    \n",
    "    if hide_graph == \"yes\":\n",
    "        plt.plot(lag_price)\n",
    "        plt.hlines(0, xmin=0, xmax=len(lag_price)-1, colors='r', linestyles='dashed')\n",
    "        plt.xlabel('Round')\n",
    "        plt.ylabel('Price Change')\n",
    "        plt.title('Lagged Price Changes')\n",
    "        plt.show()\n",
    "    return lag_price\n",
    "\n",
    "\n",
    "lag_price = get_lag_price(market_price_array)\n"
   ]
  },
  {
   "cell_type": "code",
   "execution_count": 70,
   "metadata": {},
   "outputs": [],
   "source": [
    "def period_mv_avg(idx, market_price_array, period, include_beg=\"no\"):\n",
    "    if idx < period:\n",
    "        if include_beg == 'yes':\n",
    "            mv_avg = np.mean(market_price_array[:idx])\n",
    "        else:\n",
    "            mv_avg = 14\n",
    "    else:\n",
    "        mv_avg = np.mean(market_price_array[idx-period:idx])\n",
    "\n",
    "    return mv_avg\n",
    "\n",
    "def get_moving_average(market_price_array, period, include_beg=\"no\",hide_graph = 'no'):\n",
    "    if include_beg == 'yes':\n",
    "        print(f\"\"\" Note: You are including in the moving average periods that do not have {period} rounds of previous data. \n",
    "        The means for those periods will be a simple average of the periods up until this point from index 0. \n",
    "        If you want to exclude then the include_beg parameter should be set to no.\"\"\")\n",
    "    \n",
    "    mv_avg = []\n",
    "    for round, price in enumerate(market_price_array):\n",
    "        mv_avg.append(period_mv_avg(round, market_price_array, 3, include_beg= include_beg))\n",
    "    if hide_graph == \"yes\":\n",
    "        plt.plot(mv_avg)\n",
    "        plt.hlines(14, xmin=0, xmax=len(lag_price)-1, colors='r', linestyles='dashed')\n",
    "        plt.xlabel('Round')\n",
    "        plt.ylabel(\"Price\")\n",
    "        plt.title(f'{period} Price moving averge')\n",
    "        plt.show()\n",
    "    return lag_price\n",
    "\n",
    "mv_avg3 = get_moving_average(market_price_array, 3, \"no\", \"no\")"
   ]
  },
  {
   "cell_type": "markdown",
   "metadata": {},
   "source": [
    "## Forcast Error"
   ]
  },
  {
   "cell_type": "code",
   "execution_count": 71,
   "metadata": {},
   "outputs": [
    {
     "data": {
      "text/plain": [
       "Text(0.5, 1.0, 'Forecast Error 11-period')"
      ]
     },
     "execution_count": 71,
     "metadata": {},
     "output_type": "execute_result"
    },
    {
     "data": {
      "image/png": "[encoded data removed]",
      "text/plain": [
       "<Figure size 640x480 with 1 Axes>"
      ]
     },
     "metadata": {},
     "output_type": "display_data"
    }
   ],
   "source": [
    "def get_forecast_data(round_data):\n",
    "    f1mean_forecast=[]\n",
    "    f2mean_forecast=[]\n",
    "    f3mean_forecast=[]\n",
    "    f4mean_forecast=[]\n",
    "    for i in np.unique(round_data['subsession.round_number']):\n",
    "        if i > 3:\n",
    "            r1 = round_data[round_data['subsession.round_number'] == i]\n",
    "            f1mean_forecast.append(np.mean(r1['player.f0']))\n",
    "            f2mean_forecast.append(np.mean(r1['player.f1']))\n",
    "            f3mean_forecast.append(np.mean(r1['player.f2']))\n",
    "            f4mean_forecast.append(np.mean(r1['player.f3']))\n",
    "    return [f1mean_forecast, f2mean_forecast, f3mean_forecast, f4mean_forecast]\n",
    "\n",
    "def forecast_error(round_data,market_price_array, t, m):\n",
    "    forecasts = get_forecast_data(round_data)\n",
    "    if m == 1:\n",
    "        forecast_array = forecasts[0]\n",
    "    elif m == 3:\n",
    "        forecast_array = forecasts[1]\n",
    "    elif m == 6:\n",
    "        forecast_array = forecasts[2]\n",
    "    elif m == 11:\n",
    "        forecast_array = forecasts[3]\n",
    "\n",
    "    forecast_error = forecast_array[t-m] - market_price_array[t]\n",
    "    return forecast_error\n",
    "\n",
    "def generate_forecast_error(round_data, market_price_array, m):\n",
    "    forecast_error_array = []\n",
    "    for t, price in enumerate(market_price_array):\n",
    "        if t < m:\n",
    "            error = None\n",
    "        else:\n",
    "            error = forecast_error(round_data, market_price_array, t, m)\n",
    "        forecast_error_array.append(error)\n",
    "    return forecast_error_array\n",
    "\n",
    "m = 11\n",
    "errors = generate_forecast_error(round_data, market_price_array, m)\n",
    "plt.plot(errors[m:])\n",
    "plt.title(f\"Forecast Error {m}-period\")"
   ]
  },
  {
   "cell_type": "code",
   "execution_count": null,
   "metadata": {},
   "outputs": [],
   "source": []
  },
  {
   "cell_type": "code",
   "execution_count": 72,
   "metadata": {},
   "outputs": [
    {
     "data": {
      "image/png": "[encoded data removed]",
      "text/plain": [
       "<Figure size 640x480 with 1 Axes>"
      ]
     },
     "metadata": {},
     "output_type": "display_data"
    }
   ],
   "source": [
    "f1mean_forecast=[]\n",
    "f2mean_forecast=[]\n",
    "f3mean_forecast=[]\n",
    "f4mean_forecast=[]\n",
    "for i in np.unique(round_data['subsession.round_number']):\n",
    "    if i > 3:\n",
    "        r1 = round_data[round_data['subsession.round_number'] == i]\n",
    "        f1mean_forecast.append(np.mean(r1['player.f0']))\n",
    "        f2mean_forecast.append(np.mean(r1['player.f1']))\n",
    "        f3mean_forecast.append(np.mean(r1['player.f2']))\n",
    "        f4mean_forecast.append(np.mean(r1['player.f3']))\n",
    "\n",
    "plt.plot(f1mean_forecast, label='1 Period ahead forecast')\n",
    "plt.plot(f2mean_forecast, label='3 Period ahead forecast')\n",
    "plt.plot(f3mean_forecast, label='6 Period ahead forecast')\n",
    "plt.plot(f4mean_forecast, label='11 Period ahead forecast')\n",
    "plt.plot(market_price_array, label='Market Price')\n",
    "plt.legend()\n",
    "plt.show()"
   ]
  },
  {
   "cell_type": "markdown",
   "metadata": {},
   "source": [
    "## Volume"
   ]
  },
  {
   "cell_type": "code",
   "execution_count": 73,
   "metadata": {},
   "outputs": [],
   "source": [
    "def lag_volume(buy_orders, sell_orders, t):\n",
    "    volume = np.add(buy_orders, sell_orders)\n",
    "    if t < 1:\n",
    "        lag_volume = None\n",
    "    else:\n",
    "        lag_volume= volume[t-1]\n",
    "    return lag_volume\n"
   ]
  },
  {
   "cell_type": "code",
   "execution_count": null,
   "metadata": {},
   "outputs": [],
   "source": [
    "def prev_round_volume(buy_orders, sell_orders, t):\n",
    "    buy = buy_orders\n",
    "    volume = np.add(buy_orders, sell_orders)\n",
    "    if t < 1:\n",
    "        lag_volume = None\n",
    "    else:\n",
    "        lag_volume= volume[t-1]\n",
    "    return lag_volume\n"
   ]
  },
  {
   "cell_type": "code",
   "execution_count": 124,
   "metadata": {},
   "outputs": [
    {
     "data": {
      "text/plain": [
       "[41,\n",
       " 43,\n",
       " 49,\n",
       " 60,\n",
       " 40,\n",
       " 52,\n",
       " 55,\n",
       " 53,\n",
       " 50,\n",
       " 45,\n",
       " 60,\n",
       " 47,\n",
       " 55,\n",
       " 49,\n",
       " 54,\n",
       " 58,\n",
       " 70,\n",
       " 41,\n",
       " 58,\n",
       " 60,\n",
       " 38,\n",
       " 44,\n",
       " 48,\n",
       " 46,\n",
       " 43,\n",
       " 36,\n",
       " 38,\n",
       " 27,\n",
       " 28,\n",
       " 33,\n",
       " 11,\n",
       " 21,\n",
       " 15]"
      ]
     },
     "execution_count": 124,
     "metadata": {},
     "output_type": "execute_result"
    }
   ],
   "source": [
    "buy_orders"
   ]
  },
  {
   "cell_type": "markdown",
   "metadata": {},
   "source": [
    "## Orderbook Pressure"
   ]
  },
  {
   "cell_type": "code",
   "execution_count": 74,
   "metadata": {},
   "outputs": [
    {
     "data": {
      "text/plain": [
       "[14.375,\n",
       " 15.64516129032258,\n",
       " 15.6,\n",
       " 16.857142857142858,\n",
       " 16.20689655172414,\n",
       " 16.416666666666668,\n",
       " 17.347826086956523,\n",
       " 19.166666666666668,\n",
       " 20.555555555555557,\n",
       " 20.476190476190474,\n",
       " 21.0,\n",
       " 21.517241379310345,\n",
       " 22.571428571428573,\n",
       " 25.571428571428573,\n",
       " 27.5,\n",
       " nan,\n",
       " 35.0,\n",
       " 36.333333333333336,\n",
       " 37.10344827586207,\n",
       " 37.96,\n",
       " 39.44444444444444,\n",
       " 40.23529411764706,\n",
       " 42.07142857142857,\n",
       " 45.333333333333336,\n",
       " 45.2,\n",
       " 45.45454545454545,\n",
       " 44.75,\n",
       " 44.5,\n",
       " nan,\n",
       " 42.375]"
      ]
     },
     "execution_count": 74,
     "metadata": {},
     "output_type": "execute_result"
    }
   ],
   "source": [
    "def get_orderbook_pressure_per_round(order_data, t):\n",
    "    round_data = order_data[order_data['round_number']== t]\n",
    "    market_price = np.unique(round_data['market_price'])[0]\n",
    "\n",
    "    buy_d = round_data[round_data['type'] =='BUY']\n",
    "    max_unfilled_bid = np.max(buy_d[buy_d['price'] <market_price]['price'])\n",
    "    bid_quantity = np.sum(buy_d[buy_d['price'] ==max_unfilled_bid]['quantity'])\n",
    "\n",
    "    ask_d = round_data[round_data['type'] =='SELL']\n",
    "    min_unfilled_ask = np.min(ask_d[ask_d['price'] > market_price]['price'])\n",
    "    ask_quantity = np.sum(ask_d[ask_d['price'] ==min_unfilled_ask]['quantity'])\n",
    "\n",
    "    obook_pressure = (max_unfilled_bid * bid_quantity + min_unfilled_ask * ask_quantity)/(bid_quantity+ask_quantity)\n",
    "    return obook_pressure\n",
    "\n",
    "order_book_pressure = []\n",
    "for round in np.unique(order_data['round_number']):\n",
    "    if round > 3:\n",
    "        order_book_pressure.append(get_orderbook_pressure_per_round(order_data, round))\n",
    "order_book_pressure"
   ]
  },
  {
   "cell_type": "markdown",
   "metadata": {},
   "source": [
    "## Asset Allocation"
   ]
  },
  {
   "cell_type": "code",
   "execution_count": 75,
   "metadata": {},
   "outputs": [
    {
     "data": {
      "text/plain": [
       "2.2249259259259255"
      ]
     },
     "execution_count": 75,
     "metadata": {},
     "output_type": "execute_result"
    }
   ],
   "source": [
    "def get_asset_allocation(round_data, t):\n",
    "    if t < 1:\n",
    "        price = 14\n",
    "    else:\n",
    "        price = np.unique(round_data[round_data['subsession.round_number']== 4]['group.price'])[0]\n",
    "    player_cash = np.sum(round_data[round_data['subsession.round_number']== t]['player.cash'])\n",
    "    stock_value = np.sum(r1['player.shares'])* price\n",
    "    return player_cash/stock_value\n",
    "\n",
    "get_asset_allocation(round_data, 8)\n"
   ]
  },
  {
   "cell_type": "code",
   "execution_count": null,
   "metadata": {},
   "outputs": [],
   "source": []
  },
  {
   "cell_type": "markdown",
   "metadata": {},
   "source": [
    "# Round by Round Data"
   ]
  },
  {
   "cell_type": "code",
   "execution_count": 77,
   "metadata": {},
   "outputs": [],
   "source": [
    "sell_orders = []\n",
    "min_sell_price = []\n",
    "buy_orders = []\n",
    "max_buy_price = []\n",
    "market_price = []\n",
    "for round in np.unique(order_data['round_number']):\n",
    "    df = order_data[order_data['round_number']== round]\n",
    "    sell_orders.append(np.sum(df[df['type'] == 'SELL']['quantity']))\n",
    "    min_sell_price.append(np.min(df[df['type'] == 'SELL']['price']))\n",
    "    buy_orders.append(np.sum(df[df['type'] == 'BUY']['quantity']))\n",
    "    max_buy_price.append(np.max(df[df['type'] == 'BUY']['price']))\n",
    "    market_price.append(np.unique(df['market_price']))\n",
    "\n",
    "\n",
    "#turning into numpy arrays cause its nice\n",
    "sell_orders_array = np.array(sell_orders)\n",
    "min_sell_price_array = np.array(min_sell_price)\n",
    "buy_orders_array = np.array(buy_orders)\n",
    "max_buy_price_array = np.array(max_buy_price)\n",
    "market_price_array = np.array(market_price)\n"
   ]
  },
  {
   "cell_type": "code",
   "execution_count": 92,
   "metadata": {},
   "outputs": [],
   "source": [
    "def get_negative_inflection(buy_orders, sell_orders, session, hide_graph = \"no\"):\n",
    "    buy_sell_diff = []\n",
    "    for round,ask_count in enumerate(sell_orders):\n",
    "        bid_count = buy_orders[round]\n",
    "        if (ask_count > bid_count) and not (sell_orders[round-1] > buy_orders[round-1]):\n",
    "            buy_sell_diff.append(1)\n",
    "        else:\n",
    "            buy_sell_diff.append(0)\n",
    "    np.array(buy_sell_diff)\n",
    "\n",
    "    if hide_graph == \"yes\":\n",
    "        plt.plot(buy_sell_diff)\n",
    "        plt.title(f\"{session} Bid_Ask Change\")\n",
    "    \n",
    "    return buy_sell_diff\n",
    "\n",
    "negative_inflection = get_negative_inflection(buy_orders, sell_orders, session)"
   ]
  },
  {
   "cell_type": "code",
   "execution_count": 103,
   "metadata": {},
   "outputs": [
    {
     "data": {
      "text/plain": [
       "33"
      ]
     },
     "execution_count": 103,
     "metadata": {},
     "output_type": "execute_result"
    }
   ],
   "source": [
    "len(negative_inflection)"
   ]
  },
  {
   "cell_type": "code",
   "execution_count": 119,
   "metadata": {},
   "outputs": [],
   "source": [
    "negative_inflection = get_negative_inflection(buy_orders, sell_orders, session)\n",
    "lag_price = get_lag_price(market_price_array)\n",
    "m = 11\n",
    "nerrors = generate_forecast_error(round_data, market_price_array, m)\n",
    "forecast_period_list = [1,2,5,10]\n",
    "\n",
    "round_ml_data = {\n",
    "    'order_book_pressure': [],\n",
    "    'negative_inflection': [],\n",
    "    'lag_price': [],\n",
    "    'lag_volume': [],\n",
    "    'asset_allocation': []\n",
    "}\n",
    "\n",
    "# Populate the lists with values for each round\n",
    "for round in np.unique(order_data['round_number']):\n",
    "    if round > 3:\n",
    "        round_ml_data['order_book_pressure'].append(get_orderbook_pressure_per_round(order_data, round))\n",
    "        round_ml_data['negative_inflection'].append(negative_inflection[round - 1])\n",
    "        round_ml_data['lag_price'].append(lag_price[round - 1][0])\n",
    "        round_ml_data['lag_volume'].append(lag_volume(buy_orders, sell_orders, round - 1))\n",
    "        round_ml_data['asset_allocation'].append(get_asset_allocation(round_data, round - 1))\n",
    "\n",
    "\n",
    "\n"
   ]
  },
  {
   "cell_type": "code",
   "execution_count": 123,
   "metadata": {},
   "outputs": [
    {
     "data": {
      "text/html": [
       "<div>\n",
       "<style scoped>\n",
       "    .dataframe tbody tr th:only-of-type {\n",
       "        vertical-align: middle;\n",
       "    }\n",
       "\n",
       "    .dataframe tbody tr th {\n",
       "        vertical-align: top;\n",
       "    }\n",
       "\n",
       "    .dataframe thead th {\n",
       "        text-align: right;\n",
       "    }\n",
       "</style>\n",
       "<table border=\"1\" class=\"dataframe\">\n",
       "  <thead>\n",
       "    <tr style=\"text-align: right;\">\n",
       "      <th></th>\n",
       "      <th>order_book_pressure</th>\n",
       "      <th>negative_inflection</th>\n",
       "      <th>lag_price</th>\n",
       "      <th>lag_volume</th>\n",
       "      <th>asset_allocation</th>\n",
       "    </tr>\n",
       "  </thead>\n",
       "  <tbody>\n",
       "    <tr>\n",
       "      <th>0</th>\n",
       "      <td>14.375000</td>\n",
       "      <td>0</td>\n",
       "      <td>-2.0</td>\n",
       "      <td>76</td>\n",
       "      <td>1.974167</td>\n",
       "    </tr>\n",
       "    <tr>\n",
       "      <th>1</th>\n",
       "      <td>15.645161</td>\n",
       "      <td>0</td>\n",
       "      <td>1.0</td>\n",
       "      <td>93</td>\n",
       "      <td>1.666667</td>\n",
       "    </tr>\n",
       "    <tr>\n",
       "      <th>2</th>\n",
       "      <td>15.600000</td>\n",
       "      <td>0</td>\n",
       "      <td>0.0</td>\n",
       "      <td>64</td>\n",
       "      <td>1.776667</td>\n",
       "    </tr>\n",
       "    <tr>\n",
       "      <th>3</th>\n",
       "      <td>16.857143</td>\n",
       "      <td>0</td>\n",
       "      <td>1.0</td>\n",
       "      <td>74</td>\n",
       "      <td>1.932167</td>\n",
       "    </tr>\n",
       "    <tr>\n",
       "      <th>4</th>\n",
       "      <td>16.206897</td>\n",
       "      <td>0</td>\n",
       "      <td>0.0</td>\n",
       "      <td>88</td>\n",
       "      <td>2.055463</td>\n",
       "    </tr>\n",
       "    <tr>\n",
       "      <th>5</th>\n",
       "      <td>16.416667</td>\n",
       "      <td>0</td>\n",
       "      <td>0.0</td>\n",
       "      <td>78</td>\n",
       "      <td>2.224926</td>\n",
       "    </tr>\n",
       "    <tr>\n",
       "      <th>6</th>\n",
       "      <td>17.347826</td>\n",
       "      <td>0</td>\n",
       "      <td>1.0</td>\n",
       "      <td>68</td>\n",
       "      <td>2.402833</td>\n",
       "    </tr>\n",
       "    <tr>\n",
       "      <th>7</th>\n",
       "      <td>19.166667</td>\n",
       "      <td>0</td>\n",
       "      <td>1.0</td>\n",
       "      <td>61</td>\n",
       "      <td>2.549630</td>\n",
       "    </tr>\n",
       "    <tr>\n",
       "      <th>8</th>\n",
       "      <td>20.555556</td>\n",
       "      <td>0</td>\n",
       "      <td>1.0</td>\n",
       "      <td>87</td>\n",
       "      <td>2.743787</td>\n",
       "    </tr>\n",
       "    <tr>\n",
       "      <th>9</th>\n",
       "      <td>20.476190</td>\n",
       "      <td>0</td>\n",
       "      <td>1.0</td>\n",
       "      <td>73</td>\n",
       "      <td>2.947648</td>\n",
       "    </tr>\n",
       "    <tr>\n",
       "      <th>10</th>\n",
       "      <td>21.000000</td>\n",
       "      <td>0</td>\n",
       "      <td>0.0</td>\n",
       "      <td>69</td>\n",
       "      <td>3.161685</td>\n",
       "    </tr>\n",
       "    <tr>\n",
       "      <th>11</th>\n",
       "      <td>21.517241</td>\n",
       "      <td>0</td>\n",
       "      <td>1.0</td>\n",
       "      <td>71</td>\n",
       "      <td>3.346454</td>\n",
       "    </tr>\n",
       "    <tr>\n",
       "      <th>12</th>\n",
       "      <td>22.571429</td>\n",
       "      <td>0</td>\n",
       "      <td>1.0</td>\n",
       "      <td>77</td>\n",
       "      <td>3.540444</td>\n",
       "    </tr>\n",
       "    <tr>\n",
       "      <th>13</th>\n",
       "      <td>25.571429</td>\n",
       "      <td>0</td>\n",
       "      <td>3.0</td>\n",
       "      <td>73</td>\n",
       "      <td>3.784120</td>\n",
       "    </tr>\n",
       "    <tr>\n",
       "      <th>14</th>\n",
       "      <td>27.500000</td>\n",
       "      <td>0</td>\n",
       "      <td>2.0</td>\n",
       "      <td>80</td>\n",
       "      <td>4.000009</td>\n",
       "    </tr>\n",
       "    <tr>\n",
       "      <th>15</th>\n",
       "      <td>NaN</td>\n",
       "      <td>0</td>\n",
       "      <td>5.0</td>\n",
       "      <td>55</td>\n",
       "      <td>4.266704</td>\n",
       "    </tr>\n",
       "    <tr>\n",
       "      <th>16</th>\n",
       "      <td>35.000000</td>\n",
       "      <td>0</td>\n",
       "      <td>2.0</td>\n",
       "      <td>60</td>\n",
       "      <td>4.506704</td>\n",
       "    </tr>\n",
       "    <tr>\n",
       "      <th>17</th>\n",
       "      <td>36.333333</td>\n",
       "      <td>0</td>\n",
       "      <td>1.0</td>\n",
       "      <td>78</td>\n",
       "      <td>4.758713</td>\n",
       "    </tr>\n",
       "    <tr>\n",
       "      <th>18</th>\n",
       "      <td>37.103448</td>\n",
       "      <td>0</td>\n",
       "      <td>1.0</td>\n",
       "      <td>54</td>\n",
       "      <td>5.063333</td>\n",
       "    </tr>\n",
       "    <tr>\n",
       "      <th>19</th>\n",
       "      <td>37.960000</td>\n",
       "      <td>0</td>\n",
       "      <td>1.0</td>\n",
       "      <td>74</td>\n",
       "      <td>5.343176</td>\n",
       "    </tr>\n",
       "    <tr>\n",
       "      <th>20</th>\n",
       "      <td>39.444444</td>\n",
       "      <td>0</td>\n",
       "      <td>2.0</td>\n",
       "      <td>75</td>\n",
       "      <td>5.677000</td>\n",
       "    </tr>\n",
       "    <tr>\n",
       "      <th>21</th>\n",
       "      <td>40.235294</td>\n",
       "      <td>0</td>\n",
       "      <td>1.0</td>\n",
       "      <td>64</td>\n",
       "      <td>6.027537</td>\n",
       "    </tr>\n",
       "    <tr>\n",
       "      <th>22</th>\n",
       "      <td>42.071429</td>\n",
       "      <td>0</td>\n",
       "      <td>2.0</td>\n",
       "      <td>64</td>\n",
       "      <td>6.395574</td>\n",
       "    </tr>\n",
       "    <tr>\n",
       "      <th>23</th>\n",
       "      <td>45.333333</td>\n",
       "      <td>0</td>\n",
       "      <td>2.0</td>\n",
       "      <td>65</td>\n",
       "      <td>6.742037</td>\n",
       "    </tr>\n",
       "    <tr>\n",
       "      <th>24</th>\n",
       "      <td>45.200000</td>\n",
       "      <td>1</td>\n",
       "      <td>0.0</td>\n",
       "      <td>57</td>\n",
       "      <td>7.145824</td>\n",
       "    </tr>\n",
       "    <tr>\n",
       "      <th>25</th>\n",
       "      <td>45.454545</td>\n",
       "      <td>0</td>\n",
       "      <td>0.0</td>\n",
       "      <td>57</td>\n",
       "      <td>7.569796</td>\n",
       "    </tr>\n",
       "    <tr>\n",
       "      <th>26</th>\n",
       "      <td>44.750000</td>\n",
       "      <td>0</td>\n",
       "      <td>0.0</td>\n",
       "      <td>63</td>\n",
       "      <td>8.014954</td>\n",
       "    </tr>\n",
       "    <tr>\n",
       "      <th>27</th>\n",
       "      <td>44.500000</td>\n",
       "      <td>0</td>\n",
       "      <td>-1.0</td>\n",
       "      <td>75</td>\n",
       "      <td>8.482380</td>\n",
       "    </tr>\n",
       "    <tr>\n",
       "      <th>28</th>\n",
       "      <td>NaN</td>\n",
       "      <td>0</td>\n",
       "      <td>0.0</td>\n",
       "      <td>58</td>\n",
       "      <td>8.933185</td>\n",
       "    </tr>\n",
       "    <tr>\n",
       "      <th>29</th>\n",
       "      <td>42.375000</td>\n",
       "      <td>0</td>\n",
       "      <td>0.0</td>\n",
       "      <td>62</td>\n",
       "      <td>9.446500</td>\n",
       "    </tr>\n",
       "  </tbody>\n",
       "</table>\n",
       "</div>"
      ],
      "text/plain": [
       "    order_book_pressure  negative_inflection  lag_price  lag_volume  \\\n",
       "0             14.375000                    0       -2.0          76   \n",
       "1             15.645161                    0        1.0          93   \n",
       "2             15.600000                    0        0.0          64   \n",
       "3             16.857143                    0        1.0          74   \n",
       "4             16.206897                    0        0.0          88   \n",
       "5             16.416667                    0        0.0          78   \n",
       "6             17.347826                    0        1.0          68   \n",
       "7             19.166667                    0        1.0          61   \n",
       "8             20.555556                    0        1.0          87   \n",
       "9             20.476190                    0        1.0          73   \n",
       "10            21.000000                    0        0.0          69   \n",
       "11            21.517241                    0        1.0          71   \n",
       "12            22.571429                    0        1.0          77   \n",
       "13            25.571429                    0        3.0          73   \n",
       "14            27.500000                    0        2.0          80   \n",
       "15                  NaN                    0        5.0          55   \n",
       "16            35.000000                    0        2.0          60   \n",
       "17            36.333333                    0        1.0          78   \n",
       "18            37.103448                    0        1.0          54   \n",
       "19            37.960000                    0        1.0          74   \n",
       "20            39.444444                    0        2.0          75   \n",
       "21            40.235294                    0        1.0          64   \n",
       "22            42.071429                    0        2.0          64   \n",
       "23            45.333333                    0        2.0          65   \n",
       "24            45.200000                    1        0.0          57   \n",
       "25            45.454545                    0        0.0          57   \n",
       "26            44.750000                    0        0.0          63   \n",
       "27            44.500000                    0       -1.0          75   \n",
       "28                  NaN                    0        0.0          58   \n",
       "29            42.375000                    0        0.0          62   \n",
       "\n",
       "    asset_allocation  \n",
       "0           1.974167  \n",
       "1           1.666667  \n",
       "2           1.776667  \n",
       "3           1.932167  \n",
       "4           2.055463  \n",
       "5           2.224926  \n",
       "6           2.402833  \n",
       "7           2.549630  \n",
       "8           2.743787  \n",
       "9           2.947648  \n",
       "10          3.161685  \n",
       "11          3.346454  \n",
       "12          3.540444  \n",
       "13          3.784120  \n",
       "14          4.000009  \n",
       "15          4.266704  \n",
       "16          4.506704  \n",
       "17          4.758713  \n",
       "18          5.063333  \n",
       "19          5.343176  \n",
       "20          5.677000  \n",
       "21          6.027537  \n",
       "22          6.395574  \n",
       "23          6.742037  \n",
       "24          7.145824  \n",
       "25          7.569796  \n",
       "26          8.014954  \n",
       "27          8.482380  \n",
       "28          8.933185  \n",
       "29          9.446500  "
      ]
     },
     "execution_count": 123,
     "metadata": {},
     "output_type": "execute_result"
    }
   ],
   "source": [
    "round_ml_data_df = pd.DataFrame.from_dict(round_ml_data)\n",
    "round_ml_data_df"
   ]
  },
  {
   "cell_type": "code",
   "execution_count": 114,
   "metadata": {},
   "outputs": [
    {
     "ename": "IndexError",
     "evalue": "list index out of range",
     "output_type": "error",
     "traceback": [
      "\u001b[0;31m---------------------------------------------------------------------------\u001b[0m",
      "\u001b[0;31mIndexError\u001b[0m                                Traceback (most recent call last)",
      "Cell \u001b[0;32mIn[114], line 2\u001b[0m\n\u001b[1;32m      1\u001b[0m \u001b[38;5;28;01mfor\u001b[39;00m m \u001b[38;5;129;01min\u001b[39;00m forecast_period_list:\n\u001b[0;32m----> 2\u001b[0m     nerrors \u001b[38;5;241m=\u001b[39m \u001b[43mgenerate_forecast_error\u001b[49m\u001b[43m(\u001b[49m\u001b[43mround_data\u001b[49m\u001b[43m,\u001b[49m\u001b[43m \u001b[49m\u001b[43mmarket_price_array\u001b[49m\u001b[43m,\u001b[49m\u001b[43m \u001b[49m\u001b[43mm\u001b[49m\u001b[43m)\u001b[49m\n\u001b[1;32m      3\u001b[0m     \u001b[38;5;28;01mif\u001b[39;00m errors[\u001b[38;5;28mround\u001b[39m\u001b[38;5;241m-\u001b[39m\u001b[38;5;241m1\u001b[39m][\u001b[38;5;241m0\u001b[39m] \u001b[38;5;241m==\u001b[39m \u001b[38;5;28;01mNone\u001b[39;00m:\n\u001b[1;32m      4\u001b[0m         errors[\u001b[38;5;28mround\u001b[39m\u001b[38;5;241m-\u001b[39m\u001b[38;5;241m1\u001b[39m][\u001b[38;5;241m0\u001b[39m] \u001b[38;5;241m=\u001b[39m \u001b[38;5;241m0\u001b[39m\n",
      "Cell \u001b[0;32mIn[71], line 35\u001b[0m, in \u001b[0;36mgenerate_forecast_error\u001b[0;34m(round_data, market_price_array, m)\u001b[0m\n\u001b[1;32m     33\u001b[0m         error \u001b[38;5;241m=\u001b[39m \u001b[38;5;28;01mNone\u001b[39;00m\n\u001b[1;32m     34\u001b[0m     \u001b[38;5;28;01melse\u001b[39;00m:\n\u001b[0;32m---> 35\u001b[0m         error \u001b[38;5;241m=\u001b[39m \u001b[43mforecast_error\u001b[49m\u001b[43m(\u001b[49m\u001b[43mround_data\u001b[49m\u001b[43m,\u001b[49m\u001b[43m \u001b[49m\u001b[43mmarket_price_array\u001b[49m\u001b[43m,\u001b[49m\u001b[43m \u001b[49m\u001b[43mt\u001b[49m\u001b[43m,\u001b[49m\u001b[43m \u001b[49m\u001b[43mm\u001b[49m\u001b[43m)\u001b[49m\n\u001b[1;32m     36\u001b[0m     forecast_error_array\u001b[38;5;241m.\u001b[39mappend(error)\n\u001b[1;32m     37\u001b[0m \u001b[38;5;28;01mreturn\u001b[39;00m forecast_error_array\n",
      "Cell \u001b[0;32mIn[71], line 26\u001b[0m, in \u001b[0;36mforecast_error\u001b[0;34m(round_data, market_price_array, t, m)\u001b[0m\n\u001b[1;32m     23\u001b[0m \u001b[38;5;28;01melif\u001b[39;00m m \u001b[38;5;241m==\u001b[39m \u001b[38;5;241m11\u001b[39m:\n\u001b[1;32m     24\u001b[0m     forecast_array \u001b[38;5;241m=\u001b[39m forecasts[\u001b[38;5;241m3\u001b[39m]\n\u001b[0;32m---> 26\u001b[0m forecast_error \u001b[38;5;241m=\u001b[39m \u001b[43mforecast_array\u001b[49m\u001b[43m[\u001b[49m\u001b[43mt\u001b[49m\u001b[38;5;241;43m-\u001b[39;49m\u001b[43mm\u001b[49m\u001b[43m]\u001b[49m \u001b[38;5;241m-\u001b[39m market_price_array[t]\n\u001b[1;32m     27\u001b[0m \u001b[38;5;28;01mreturn\u001b[39;00m forecast_error\n",
      "\u001b[0;31mIndexError\u001b[0m: list index out of range"
     ]
    }
   ],
   "source": [
    "for m in forecast_period_list:\n",
    "    nerrors = generate_forecast_error(round_data, market_price_array, m)\n",
    "    if errors[round-1][0] == None:\n",
    "        errors[round-1][0] = 0\n",
    "    round_ml_data[f'{m}_forecast_error'] = errors[round-1][0]"
   ]
  },
  {
   "cell_type": "code",
   "execution_count": null,
   "metadata": {},
   "outputs": [
    {
     "ename": "IndexError",
     "evalue": "list index out of range",
     "output_type": "error",
     "traceback": [
      "\u001b[0;31m---------------------------------------------------------------------------\u001b[0m",
      "\u001b[0;31mIndexError\u001b[0m                                Traceback (most recent call last)",
      "Cell \u001b[0;32mIn[59], line 2\u001b[0m\n\u001b[1;32m      1\u001b[0m \u001b[38;5;28;01mfor\u001b[39;00m m \u001b[38;5;129;01min\u001b[39;00m forecast_period_list:\n\u001b[0;32m----> 2\u001b[0m     nerrors \u001b[38;5;241m=\u001b[39m \u001b[43mgenerate_forecast_error\u001b[49m\u001b[43m(\u001b[49m\u001b[43mround_data\u001b[49m\u001b[43m,\u001b[49m\u001b[43m \u001b[49m\u001b[43mmarket_price_array\u001b[49m\u001b[43m,\u001b[49m\u001b[43m \u001b[49m\u001b[43mm\u001b[49m\u001b[43m)\u001b[49m\n\u001b[1;32m      3\u001b[0m     \u001b[38;5;28;01mif\u001b[39;00m errors[\u001b[38;5;28mround\u001b[39m][\u001b[38;5;241m0\u001b[39m] \u001b[38;5;241m==\u001b[39m \u001b[38;5;28;01mNone\u001b[39;00m:\n\u001b[1;32m      4\u001b[0m         errors[\u001b[38;5;28mround\u001b[39m][\u001b[38;5;241m0\u001b[39m] \u001b[38;5;241m=\u001b[39m \u001b[38;5;241m0\u001b[39m\n",
      "Cell \u001b[0;32mIn[34], line 35\u001b[0m, in \u001b[0;36mgenerate_forecast_error\u001b[0;34m(round_data, market_price_array, m)\u001b[0m\n\u001b[1;32m     33\u001b[0m         error \u001b[38;5;241m=\u001b[39m \u001b[38;5;28;01mNone\u001b[39;00m\n\u001b[1;32m     34\u001b[0m     \u001b[38;5;28;01melse\u001b[39;00m:\n\u001b[0;32m---> 35\u001b[0m         error \u001b[38;5;241m=\u001b[39m \u001b[43mforecast_error\u001b[49m\u001b[43m(\u001b[49m\u001b[43mround_data\u001b[49m\u001b[43m,\u001b[49m\u001b[43m \u001b[49m\u001b[43mmarket_price_array\u001b[49m\u001b[43m,\u001b[49m\u001b[43m \u001b[49m\u001b[43mt\u001b[49m\u001b[43m,\u001b[49m\u001b[43m \u001b[49m\u001b[43mm\u001b[49m\u001b[43m)\u001b[49m\n\u001b[1;32m     36\u001b[0m     forecast_error_array\u001b[38;5;241m.\u001b[39mappend(error)\n\u001b[1;32m     37\u001b[0m \u001b[38;5;28;01mreturn\u001b[39;00m forecast_error_array\n",
      "Cell \u001b[0;32mIn[34], line 26\u001b[0m, in \u001b[0;36mforecast_error\u001b[0;34m(round_data, market_price_array, t, m)\u001b[0m\n\u001b[1;32m     23\u001b[0m \u001b[38;5;28;01melif\u001b[39;00m m \u001b[38;5;241m==\u001b[39m \u001b[38;5;241m11\u001b[39m:\n\u001b[1;32m     24\u001b[0m     forecast_array \u001b[38;5;241m=\u001b[39m forecasts[\u001b[38;5;241m3\u001b[39m]\n\u001b[0;32m---> 26\u001b[0m forecast_error \u001b[38;5;241m=\u001b[39m \u001b[43mforecast_array\u001b[49m\u001b[43m[\u001b[49m\u001b[43mt\u001b[49m\u001b[38;5;241;43m-\u001b[39;49m\u001b[43mm\u001b[49m\u001b[43m]\u001b[49m \u001b[38;5;241m-\u001b[39m market_price_array[t]\n\u001b[1;32m     27\u001b[0m \u001b[38;5;28;01mreturn\u001b[39;00m forecast_error\n",
      "\u001b[0;31mIndexError\u001b[0m: list index out of range"
     ]
    }
   ],
   "source": []
  }
 ],
 "metadata": {
  "kernelspec": {
   "display_name": ".venv",
   "language": "python",
   "name": "python3"
  },
  "language_info": {
   "codemirror_mode": {
    "name": "ipython",
    "version": 3
   },
   "file_extension": ".py",
   "mimetype": "text/x-python",
   "name": "python",
   "nbconvert_exporter": "python",
   "pygments_lexer": "ipython3",
   "version": "3.9.6"
  }
 },
 "nbformat": 4,
 "nbformat_minor": 2
}
