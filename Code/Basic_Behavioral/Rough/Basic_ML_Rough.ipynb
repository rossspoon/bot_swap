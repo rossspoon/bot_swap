{
 "cells": [
  {
   "cell_type": "code",
   "execution_count": 5,
   "metadata": {},
   "outputs": [
    {
     "name": "stdout",
     "output_type": "stream",
     "text": [
      "Collecting scikit-learn\n",
      "  Downloading scikit_learn-1.4.2-cp39-cp39-macosx_12_0_arm64.whl.metadata (11 kB)\n",
      "Requirement already satisfied: numpy>=1.19.5 in /Users/thenning/Documents/GitHub/neurobubbles/.venv/lib/python3.9/site-packages (from scikit-learn) (1.26.4)\n",
      "Collecting scipy>=1.6.0 (from scikit-learn)\n",
      "  Downloading scipy-1.13.0-cp39-cp39-macosx_12_0_arm64.whl.metadata (60 kB)\n",
      "\u001b[2K     \u001b[90m━━━━━━━━━━━━━━━━━━━━━━━━━━━━━━━━━━━━━━━━\u001b[0m \u001b[32m60.6/60.6 kB\u001b[0m \u001b[31m3.1 MB/s\u001b[0m eta \u001b[36m0:00:00\u001b[0m\n",
      "\u001b[?25hCollecting joblib>=1.2.0 (from scikit-learn)\n",
      "  Downloading joblib-1.4.0-py3-none-any.whl.metadata (5.4 kB)\n",
      "Collecting threadpoolctl>=2.0.0 (from scikit-learn)\n",
      "  Using cached threadpoolctl-3.4.0-py3-none-any.whl.metadata (13 kB)\n",
      "Downloading scikit_learn-1.4.2-cp39-cp39-macosx_12_0_arm64.whl (10.5 MB)\n",
      "\u001b[2K   \u001b[90m━━━━━━━━━━━━━━━━━━━━━━━━━━━━━━━━━━━━━━━━\u001b[0m \u001b[32m10.5/10.5 MB\u001b[0m \u001b[31m11.5 MB/s\u001b[0m eta \u001b[36m0:00:00\u001b[0m00:01\u001b[0m0:01\u001b[0m\n",
      "\u001b[?25hDownloading joblib-1.4.0-py3-none-any.whl (301 kB)\n",
      "\u001b[2K   \u001b[90m━━━━━━━━━━━━━━━━━━━━━━━━━━━━━━━━━━━━━━━━\u001b[0m \u001b[32m301.2/301.2 kB\u001b[0m \u001b[31m9.3 MB/s\u001b[0m eta \u001b[36m0:00:00\u001b[0m\n",
      "\u001b[?25hDownloading scipy-1.13.0-cp39-cp39-macosx_12_0_arm64.whl (30.3 MB)\n",
      "\u001b[2K   \u001b[90m━━━━━━━━━━━━━━━━━━━━━━━━━━━━━━━━━━━━━━━━\u001b[0m \u001b[32m30.3/30.3 MB\u001b[0m \u001b[31m11.4 MB/s\u001b[0m eta \u001b[36m0:00:00\u001b[0m00:01\u001b[0m00:01\u001b[0m\n",
      "\u001b[?25hUsing cached threadpoolctl-3.4.0-py3-none-any.whl (17 kB)\n",
      "Installing collected packages: threadpoolctl, scipy, joblib, scikit-learn\n",
      "Successfully installed joblib-1.4.0 scikit-learn-1.4.2 scipy-1.13.0 threadpoolctl-3.4.0\n",
      "Note: you may need to restart the kernel to use updated packages.\n"
     ]
    }
   ],
   "source": []
  },
  {
   "cell_type": "code",
   "execution_count": 6,
   "metadata": {},
   "outputs": [],
   "source": [
    "import pandas as pd\n",
    "import numpy as np\n",
    "import matplotlib.pyplot as plt\n",
    "import glob\n",
    "from sklearn.svm import LinearSVC"
   ]
  },
  {
   "cell_type": "code",
   "execution_count": 19,
   "metadata": {},
   "outputs": [],
   "source": [
    "session = \"Pilot5\"\n",
    "data_dir = f\"/Users/thenning/Documents/GitHub/neurobubbles/Data/{session}\"\n",
    "order_data = pd.read_csv((glob.glob(f\"{data_dir}/orders*.csv\"))[0])\n",
    "round_data = pd.read_csv((glob.glob(f\"{data_dir}/rounds*.csv\"))[0])\n",
    "payments_data = pd.read_csv((glob.glob(f\"{data_dir}/payment*.csv\"))[0])\n",
    "prescreen_data = pd.read_csv((glob.glob(f\"{data_dir}/prescreen*.csv\"))[0])\n",
    "pagetime_data = pd.read_csv((glob.glob(f\"{data_dir}/PageTimes*.csv\"))[0])\n"
   ]
  },
  {
   "cell_type": "markdown",
   "metadata": {},
   "source": [
    "# Order Data"
   ]
  },
  {
   "cell_type": "code",
   "execution_count": 14,
   "metadata": {},
   "outputs": [
    {
     "name": "stdout",
     "output_type": "stream",
     "text": [
      "skipping practice round 1\n",
      "skipping practice round 2\n",
      "skipping practice round 3\n"
     ]
    },
    {
     "data": {
      "text/plain": [
       "30"
      ]
     },
     "execution_count": 14,
     "metadata": {},
     "output_type": "execute_result"
    }
   ],
   "source": [
    "sell_orders = []\n",
    "min_sell_price = []\n",
    "buy_orders = []\n",
    "max_buy_price = []\n",
    "market_price = []\n",
    "for round in np.unique(order_data['round_number']):\n",
    "    if round > 3:\n",
    "        df = order_data[order_data['round_number']== round]\n",
    "        sell_orders.append(np.sum(df[df['type'] == 'SELL']['quantity']))\n",
    "        min_sell_price.append(np.min(df[df['type'] == 'SELL']['price']))\n",
    "        buy_orders.append(np.sum(df[df['type'] == 'BUY']['quantity']))\n",
    "        max_buy_price.append(np.max(df[df['type'] == 'BUY']['price']))\n",
    "        market_price.append(np.unique(df['market_price']))\n",
    "    else:\n",
    "        print(\"skipping practice round\", round)\n",
    "\n",
    "len(sell_orders)"
   ]
  },
  {
   "cell_type": "markdown",
   "metadata": {},
   "source": [
    "## Buy and Sell info"
   ]
  },
  {
   "cell_type": "code",
   "execution_count": 13,
   "metadata": {},
   "outputs": [
    {
     "data": {
      "image/png": "[encoded data removed]",
      "text/plain": [
       "<Figure size 640x480 with 1 Axes>"
      ]
     },
     "metadata": {},
     "output_type": "display_data"
    }
   ],
   "source": [
    "num_rounds = len(sell_orders)  # Assuming both sell_orders and buy_orders have the same length (number of rounds)\n",
    "rounds = np.arange(num_rounds)\n",
    "\n",
    "\n",
    "plt.bar(rounds - 0.2, sell_orders, width=0.4, label='Sell Orders', color='red')  # Shift bars to the left, color red\n",
    "plt.bar(rounds + 0.2, buy_orders, width=0.4, label='Buy Orders', color='green')   # Shift bars to the right, color green\n",
    "plt.xlabel('Round')\n",
    "plt.ylabel('Buy/Sell Order Count')\n",
    "plt.title('Buy/Sell Order Count per Round')\n",
    "plt.legend()\n",
    "plt.show()\n"
   ]
  },
  {
   "cell_type": "code",
   "execution_count": 36,
   "metadata": {},
   "outputs": [
    {
     "data": {
      "text/plain": [
       "[0,\n",
       " 0,\n",
       " 0,\n",
       " 0,\n",
       " 0,\n",
       " 0,\n",
       " 0,\n",
       " 0,\n",
       " 0,\n",
       " 0,\n",
       " 0,\n",
       " 0,\n",
       " 0,\n",
       " 0,\n",
       " 0,\n",
       " 0,\n",
       " 0,\n",
       " 0,\n",
       " 0,\n",
       " 0,\n",
       " 0,\n",
       " 0,\n",
       " 0,\n",
       " 0,\n",
       " 1,\n",
       " 0,\n",
       " 0,\n",
       " 0,\n",
       " 0,\n",
       " 0]"
      ]
     },
     "execution_count": 36,
     "metadata": {},
     "output_type": "execute_result"
    }
   ],
   "source": [
    "def get_negative_inflection(buy_orders, sell_orders, hide_graph = \"no\"):\n",
    "    buy_sell_diff = []\n",
    "    for round,ask_count in enumerate(sell_orders):\n",
    "        bid_count = buy_orders[round]\n",
    "        if (ask_count > bid_count) and not (sell_orders[round-1] > buy_orders[round-1]):\n",
    "            buy_sell_diff.append(1)\n",
    "        else:\n",
    "            buy_sell_diff.append(0)\n",
    "    np.array(buy_sell_diff)\n",
    "\n",
    "    if hide_graph == \"yes\":\n",
    "        plt.plot(buy_sell_diff)\n",
    "        plt.title(f\"{session} Bid_Ask Change\")\n",
    "    \n",
    "    return buy_sell_diff\n",
    "\n",
    "buy_sell_diff = get_negative_inflection(buy_orders, sell_orders)"
   ]
  },
  {
   "cell_type": "code",
   "execution_count": null,
   "metadata": {},
   "outputs": [],
   "source": []
  }
 ],
 "metadata": {
  "kernelspec": {
   "display_name": ".venv",
   "language": "python",
   "name": "python3"
  },
  "language_info": {
   "codemirror_mode": {
    "name": "ipython",
    "version": 3
   },
   "file_extension": ".py",
   "mimetype": "text/x-python",
   "name": "python",
   "nbconvert_exporter": "python",
   "pygments_lexer": "ipython3",
   "version": "3.9.6"
  }
 },
 "nbformat": 4,
 "nbformat_minor": 2
}
