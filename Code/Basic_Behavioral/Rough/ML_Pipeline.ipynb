{
 "cells": [
  {
   "cell_type": "code",
   "execution_count": 2,
   "metadata": {},
   "outputs": [],
   "source": [
    "import pandas as pd\n",
    "import numpy as np\n",
    "import matplotlib.pyplot as plt\n",
    "import glob\n",
    "from sklearn.svm import LinearSVC\n",
    "from sklearn.linear_model import LinearRegression \n",
    "from ML_Helper import *\n"
   ]
  },
  {
   "cell_type": "markdown",
   "metadata": {},
   "source": [
    "# Price Data"
   ]
  },
  {
   "cell_type": "code",
   "execution_count": 8,
   "metadata": {},
   "outputs": [
    {
     "data": {
      "text/plain": [
       "array([19, 14, 27, 33, 24, 22, 33, 25, 18, 16, 27, 26, 14, 22, 23, 15, 10,\n",
       "       14,  2, 18, 16, 30, 27, 18, 21, 29, 19, 30, 35, 42, 47, 41, 30])"
      ]
     },
     "execution_count": 8,
     "metadata": {},
     "output_type": "execute_result"
    }
   ],
   "source": [
    "session = \"Pilot5\"\n",
    "data_dir = f\"/Users/thenning/Documents/GitHub/neurobubbles/Data/{session}\"\n",
    "order_data = pd.read_csv((glob.glob(f\"{data_dir}/orders*.csv\"))[0])\n",
    "round_data = pd.read_csv((glob.glob(f\"{data_dir}/rounds*.csv\"))[0])\n",
    "payments_data = pd.read_csv((glob.glob(f\"{data_dir}/payment*.csv\"))[0])\n",
    "prescreen_data = pd.read_csv((glob.glob(f\"{data_dir}/prescreen*.csv\"))[0])\n",
    "pagetime_data = pd.read_csv((glob.glob(f\"{data_dir}/PageTimes*.csv\"))[0])\n",
    "\n",
    "def basic_price_data(order_data):\n",
    "    sell_orders = []\n",
    "    min_sell_price = []\n",
    "    buy_orders = []\n",
    "    max_buy_price = []\n",
    "    market_price = []\n",
    "    volume = []\n",
    "    for round in np.unique(order_data['round_number']):\n",
    "        df = order_data[order_data['round_number']== round]\n",
    "        sell_orders.append(np.sum(df[df['type'] == 'SELL']['quantity']))\n",
    "        min_sell_price.append(np.min(df[df['type'] == 'SELL']['price']))\n",
    "        buy_orders.append(np.sum(df[df['type'] == 'BUY']['quantity']))\n",
    "        max_buy_price.append(np.max(df[df['type'] == 'BUY']['price']))\n",
    "        market_price.append(np.unique(df['market_price']))\n",
    "        volume.append(np.unique(df['volume']))\n",
    "\n",
    "\n",
    "    #turning into numpy arrays cause its nice\n",
    "    sell_orders_array = np.array(sell_orders)\n",
    "    min_sell_price_array = np.array(min_sell_price)\n",
    "    buy_orders_array = np.array(buy_orders)\n",
    "    max_buy_price_array = np.array(max_buy_price)\n",
    "    market_price_array = np.array(market_price)\n",
    "    volume_array = np.array(volume)\n",
    "    return sell_orders_array, min_sell_price_array, buy_orders_array, max_buy_price_array,market_price_array, volume_array\n",
    "\n",
    "sell_orders_array, min_sell_price_array, buy_orders_array, max_buy_price_array,market_price_array, volume_array = basic_price_data(order_data)\n",
    "\n",
    "def get_all_data(dir):\n",
    "    for "
   ]
  },
  {
   "cell_type": "markdown",
   "metadata": {},
   "source": [
    "# Quick EDA Regression"
   ]
  },
  {
   "cell_type": "code",
   "execution_count": 30,
   "metadata": {},
   "outputs": [
    {
     "data": {
      "text/plain": [
       "'/Users/thenning/Documents/GitHub/neurobubbles/Code/Basic_Behavioral/Rough'"
      ]
     },
     "execution_count": 30,
     "metadata": {},
     "output_type": "execute_result"
    }
   ],
   "source": [
    "import os\n",
    "current_dir = os.getcwd()\n",
    "current_dir"
   ]
  },
  {
   "cell_type": "code",
   "execution_count": 41,
   "metadata": {},
   "outputs": [],
   "source": [
    "import pandas as pd\n",
    "def summarize_rounds(session_df, rounds):\n",
    "    \"\"\"Input: Session dataframe; rounds to analyze\n",
    "       Output: Column summaries for each round\"\"\"\n",
    "    tot_df = []\n",
    "    for round in rounds:\n",
    "        round_df = session_df[session_df['round'] == round]\n",
    "        numeric_cols = round_df.select_dtypes(include=[np.number])\n",
    "        mean_df = numeric_cols.mean()\n",
    "        tot_df.append(mean_df)\n",
    "\n",
    "    # Convert the list of means to a DataFrame for better visualization\n",
    "    result_df = pd.DataFrame(tot_df, index=rounds)\n",
    "    return result_df\n",
    "\n",
    "def summarize_df(csv_file):\n",
    "    \"\"\"Input: CSV File path\n",
    "       Output: Round by Round data sumamrized across subjects. Mean taken for all numerical column\n",
    "       Note: THIS HAS NO QUALITATIVE DATA IN IT\"\"\"\n",
    "    raw_data = pd.read_csv(csv_file)\n",
    "    sessions = np.unique(raw_data['session'])\n",
    "    session_list = {}\n",
    "    round_summary = []\n",
    "    for session in sessions:\n",
    "        session_list[session] = raw_data[raw_data['session'] == session]\n",
    "        session_df = session_list[session]\n",
    "        rounds = np.unique(session_df['round'])\n",
    "        session_summary = summarize_rounds(session_df, rounds)\n",
    "        \n",
    "        # Add a column to identify the session in the summary DataFrame\n",
    "        session_summary['session'] = session\n",
    "        round_summary.append(session_summary)\n",
    "\n",
    "    # Concatenate all the round summaries into a single DataFrame\n",
    "    final_df = pd.concat(round_summary)\n",
    "\n",
    "\n",
    "    # Display the final DataFrame\n",
    "    final_df.to_csv(r\"/Users/thenning/Documents/GitHub/neurobubbles/econometrics/summarized_round_data.csv\") # Will send to whatever dir your code is in\n",
    "\n",
    "    return final_df\n",
    "\n",
    "csv_file = r'/Users/thenning/Documents/GitHub/neurobubbles/econometrics/flattened_data_w_bio_7_26_24.csv' # Insert CSV path here, this is my path but you may need to change it\n",
    "\n",
    "df = summarize_df(csv_file)\n"
   ]
  },
  {
   "cell_type": "code",
   "execution_count": 40,
   "metadata": {},
   "outputs": [
    {
     "ename": "KeyError",
     "evalue": "'comment'",
     "output_type": "error",
     "traceback": [
      "\u001b[0;31m---------------------------------------------------------------------------\u001b[0m",
      "\u001b[0;31mKeyError\u001b[0m                                  Traceback (most recent call last)",
      "File \u001b[0;32m~/Documents/GitHub/neurobubbles/.venv/lib/python3.9/site-packages/pandas/core/indexes/base.py:3805\u001b[0m, in \u001b[0;36mIndex.get_loc\u001b[0;34m(self, key)\u001b[0m\n\u001b[1;32m   3804\u001b[0m \u001b[38;5;28;01mtry\u001b[39;00m:\n\u001b[0;32m-> 3805\u001b[0m     \u001b[38;5;28;01mreturn\u001b[39;00m \u001b[38;5;28;43mself\u001b[39;49m\u001b[38;5;241;43m.\u001b[39;49m\u001b[43m_engine\u001b[49m\u001b[38;5;241;43m.\u001b[39;49m\u001b[43mget_loc\u001b[49m\u001b[43m(\u001b[49m\u001b[43mcasted_key\u001b[49m\u001b[43m)\u001b[49m\n\u001b[1;32m   3806\u001b[0m \u001b[38;5;28;01mexcept\u001b[39;00m \u001b[38;5;167;01mKeyError\u001b[39;00m \u001b[38;5;28;01mas\u001b[39;00m err:\n",
      "File \u001b[0;32mindex.pyx:167\u001b[0m, in \u001b[0;36mpandas._libs.index.IndexEngine.get_loc\u001b[0;34m()\u001b[0m\n",
      "File \u001b[0;32mindex.pyx:196\u001b[0m, in \u001b[0;36mpandas._libs.index.IndexEngine.get_loc\u001b[0;34m()\u001b[0m\n",
      "File \u001b[0;32mpandas/_libs/hashtable_class_helper.pxi:7081\u001b[0m, in \u001b[0;36mpandas._libs.hashtable.PyObjectHashTable.get_item\u001b[0;34m()\u001b[0m\n",
      "File \u001b[0;32mpandas/_libs/hashtable_class_helper.pxi:7089\u001b[0m, in \u001b[0;36mpandas._libs.hashtable.PyObjectHashTable.get_item\u001b[0;34m()\u001b[0m\n",
      "\u001b[0;31mKeyError\u001b[0m: 'comment'",
      "\nThe above exception was the direct cause of the following exception:\n",
      "\u001b[0;31mKeyError\u001b[0m                                  Traceback (most recent call last)",
      "Cell \u001b[0;32mIn[40], line 1\u001b[0m\n\u001b[0;32m----> 1\u001b[0m \u001b[43mdf\u001b[49m\u001b[43m[\u001b[49m\u001b[38;5;124;43m'\u001b[39;49m\u001b[38;5;124;43mcomment\u001b[39;49m\u001b[38;5;124;43m'\u001b[39;49m\u001b[43m]\u001b[49m\n",
      "File \u001b[0;32m~/Documents/GitHub/neurobubbles/.venv/lib/python3.9/site-packages/pandas/core/frame.py:4102\u001b[0m, in \u001b[0;36mDataFrame.__getitem__\u001b[0;34m(self, key)\u001b[0m\n\u001b[1;32m   4100\u001b[0m \u001b[38;5;28;01mif\u001b[39;00m \u001b[38;5;28mself\u001b[39m\u001b[38;5;241m.\u001b[39mcolumns\u001b[38;5;241m.\u001b[39mnlevels \u001b[38;5;241m>\u001b[39m \u001b[38;5;241m1\u001b[39m:\n\u001b[1;32m   4101\u001b[0m     \u001b[38;5;28;01mreturn\u001b[39;00m \u001b[38;5;28mself\u001b[39m\u001b[38;5;241m.\u001b[39m_getitem_multilevel(key)\n\u001b[0;32m-> 4102\u001b[0m indexer \u001b[38;5;241m=\u001b[39m \u001b[38;5;28;43mself\u001b[39;49m\u001b[38;5;241;43m.\u001b[39;49m\u001b[43mcolumns\u001b[49m\u001b[38;5;241;43m.\u001b[39;49m\u001b[43mget_loc\u001b[49m\u001b[43m(\u001b[49m\u001b[43mkey\u001b[49m\u001b[43m)\u001b[49m\n\u001b[1;32m   4103\u001b[0m \u001b[38;5;28;01mif\u001b[39;00m is_integer(indexer):\n\u001b[1;32m   4104\u001b[0m     indexer \u001b[38;5;241m=\u001b[39m [indexer]\n",
      "File \u001b[0;32m~/Documents/GitHub/neurobubbles/.venv/lib/python3.9/site-packages/pandas/core/indexes/base.py:3812\u001b[0m, in \u001b[0;36mIndex.get_loc\u001b[0;34m(self, key)\u001b[0m\n\u001b[1;32m   3807\u001b[0m     \u001b[38;5;28;01mif\u001b[39;00m \u001b[38;5;28misinstance\u001b[39m(casted_key, \u001b[38;5;28mslice\u001b[39m) \u001b[38;5;129;01mor\u001b[39;00m (\n\u001b[1;32m   3808\u001b[0m         \u001b[38;5;28misinstance\u001b[39m(casted_key, abc\u001b[38;5;241m.\u001b[39mIterable)\n\u001b[1;32m   3809\u001b[0m         \u001b[38;5;129;01mand\u001b[39;00m \u001b[38;5;28many\u001b[39m(\u001b[38;5;28misinstance\u001b[39m(x, \u001b[38;5;28mslice\u001b[39m) \u001b[38;5;28;01mfor\u001b[39;00m x \u001b[38;5;129;01min\u001b[39;00m casted_key)\n\u001b[1;32m   3810\u001b[0m     ):\n\u001b[1;32m   3811\u001b[0m         \u001b[38;5;28;01mraise\u001b[39;00m InvalidIndexError(key)\n\u001b[0;32m-> 3812\u001b[0m     \u001b[38;5;28;01mraise\u001b[39;00m \u001b[38;5;167;01mKeyError\u001b[39;00m(key) \u001b[38;5;28;01mfrom\u001b[39;00m \u001b[38;5;21;01merr\u001b[39;00m\n\u001b[1;32m   3813\u001b[0m \u001b[38;5;28;01mexcept\u001b[39;00m \u001b[38;5;167;01mTypeError\u001b[39;00m:\n\u001b[1;32m   3814\u001b[0m     \u001b[38;5;66;03m# If we have a listlike key, _check_indexing_error will raise\u001b[39;00m\n\u001b[1;32m   3815\u001b[0m     \u001b[38;5;66;03m#  InvalidIndexError. Otherwise we fall through and re-raise\u001b[39;00m\n\u001b[1;32m   3816\u001b[0m     \u001b[38;5;66;03m#  the TypeError.\u001b[39;00m\n\u001b[1;32m   3817\u001b[0m     \u001b[38;5;28mself\u001b[39m\u001b[38;5;241m.\u001b[39m_check_indexing_error(key)\n",
      "\u001b[0;31mKeyError\u001b[0m: 'comment'"
     ]
    }
   ],
   "source": [
    "\n",
    "df['comment']\n"
   ]
  },
  {
   "cell_type": "code",
   "execution_count": 20,
   "metadata": {},
   "outputs": [
    {
     "data": {
      "text/plain": [
       "1              NaN\n",
       "2     1.400524e-01\n",
       "3    -2.976049e+09\n",
       "4    -3.733758e-01\n",
       "5    -7.173499e-01\n",
       "6     6.753216e-02\n",
       "7    -3.505986e-01\n",
       "8    -4.805179e-01\n",
       "9    -1.316326e+00\n",
       "10   -2.826087e-01\n",
       "11   -9.285158e-02\n",
       "12   -9.224377e-01\n",
       "13   -9.937501e-01\n",
       "14   -3.212574e-01\n",
       "15   -1.674717e-01\n",
       "16   -2.043520e-01\n",
       "17   -7.233306e-01\n",
       "18   -2.812793e-01\n",
       "19   -1.679704e-01\n",
       "20   -3.654373e-01\n",
       "21   -2.964599e-01\n",
       "22   -9.486110e-01\n",
       "23   -3.503656e-01\n",
       "24   -1.192698e-01\n",
       "25   -3.875866e-01\n",
       "26   -2.418617e-01\n",
       "27   -2.742757e-01\n",
       "28   -8.201727e-01\n",
       "29   -8.474080e-02\n",
       "30   -2.231969e-01\n",
       "Name: temp_pct_range, dtype: float64"
      ]
     },
     "execution_count": 20,
     "metadata": {},
     "output_type": "execute_result"
    }
   ],
   "source": [
    "result_df['temp_pct_range']"
   ]
  }
 ],
 "metadata": {
  "kernelspec": {
   "display_name": ".venv",
   "language": "python",
   "name": "python3"
  },
  "language_info": {
   "codemirror_mode": {
    "name": "ipython",
    "version": 3
   },
   "file_extension": ".py",
   "mimetype": "text/x-python",
   "name": "python",
   "nbconvert_exporter": "python",
   "pygments_lexer": "ipython3",
   "version": "3.9.6"
  }
 },
 "nbformat": 4,
 "nbformat_minor": 2
}
