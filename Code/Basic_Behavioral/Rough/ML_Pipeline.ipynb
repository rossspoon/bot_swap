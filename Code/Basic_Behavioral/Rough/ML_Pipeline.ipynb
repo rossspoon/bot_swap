{
 "cells": [
  {
   "cell_type": "code",
   "execution_count": 5,
   "metadata": {},
   "outputs": [],
   "source": [
    "import pandas as pd\n",
    "import numpy as np\n",
    "import matplotlib.pyplot as plt\n",
    "import glob\n",
    "from sklearn.svm import LinearSVC\n",
    "from sklearn.linear_model import LinearRegression \n",
    "from ML_Helper import *\n"
   ]
  },
  {
   "cell_type": "markdown",
   "metadata": {},
   "source": [
    "# Price Data"
   ]
  },
  {
   "cell_type": "code",
   "execution_count": 8,
   "metadata": {},
   "outputs": [
    {
     "data": {
      "text/plain": [
       "array([19, 14, 27, 33, 24, 22, 33, 25, 18, 16, 27, 26, 14, 22, 23, 15, 10,\n",
       "       14,  2, 18, 16, 30, 27, 18, 21, 29, 19, 30, 35, 42, 47, 41, 30])"
      ]
     },
     "execution_count": 8,
     "metadata": {},
     "output_type": "execute_result"
    }
   ],
   "source": [
    "session = \"Pilot5\"\n",
    "data_dir = f\"/Users/thenning/Documents/GitHub/neurobubbles/Data/{session}\"\n",
    "order_data = pd.read_csv((glob.glob(f\"{data_dir}/orders*.csv\"))[0])\n",
    "round_data = pd.read_csv((glob.glob(f\"{data_dir}/rounds*.csv\"))[0])\n",
    "payments_data = pd.read_csv((glob.glob(f\"{data_dir}/payment*.csv\"))[0])\n",
    "prescreen_data = pd.read_csv((glob.glob(f\"{data_dir}/prescreen*.csv\"))[0])\n",
    "pagetime_data = pd.read_csv((glob.glob(f\"{data_dir}/PageTimes*.csv\"))[0])\n",
    "\n",
    "def basic_price_data(order_data):\n",
    "    sell_orders = []\n",
    "    min_sell_price = []\n",
    "    buy_orders = []\n",
    "    max_buy_price = []\n",
    "    market_price = []\n",
    "    volume = []\n",
    "    for round in np.unique(order_data['round_number']):\n",
    "        df = order_data[order_data['round_number']== round]\n",
    "        sell_orders.append(np.sum(df[df['type'] == 'SELL']['quantity']))\n",
    "        min_sell_price.append(np.min(df[df['type'] == 'SELL']['price']))\n",
    "        buy_orders.append(np.sum(df[df['type'] == 'BUY']['quantity']))\n",
    "        max_buy_price.append(np.max(df[df['type'] == 'BUY']['price']))\n",
    "        market_price.append(np.unique(df['market_price']))\n",
    "        volume.append(np.unique(df['volume']))\n",
    "\n",
    "\n",
    "    #turning into numpy arrays cause its nice\n",
    "    sell_orders_array = np.array(sell_orders)\n",
    "    min_sell_price_array = np.array(min_sell_price)\n",
    "    buy_orders_array = np.array(buy_orders)\n",
    "    max_buy_price_array = np.array(max_buy_price)\n",
    "    market_price_array = np.array(market_price)\n",
    "    volume_array = np.array(volume)\n",
    "    return sell_orders_array, min_sell_price_array, buy_orders_array, max_buy_price_array,market_price_array, volume_array\n",
    "\n",
    "sell_orders_array, min_sell_price_array, buy_orders_array, max_buy_price_array,market_price_array, volume_array = basic_price_data(order_data)\n",
    "\n",
    "def get_all_data(dir):\n",
    "    for "
   ]
  }
 ],
 "metadata": {
  "kernelspec": {
   "display_name": ".venv",
   "language": "python",
   "name": "python3"
  },
  "language_info": {
   "codemirror_mode": {
    "name": "ipython",
    "version": 3
   },
   "file_extension": ".py",
   "mimetype": "text/x-python",
   "name": "python",
   "nbconvert_exporter": "python",
   "pygments_lexer": "ipython3",
   "version": "3.9.6"
  }
 },
 "nbformat": 4,
 "nbformat_minor": 2
}
